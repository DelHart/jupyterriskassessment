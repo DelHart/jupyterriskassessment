{
 "cells": [
  {
   "cell_type": "code",
   "execution_count": null,
   "metadata": {},
   "outputs": [],
   "source": [
    "import numpy as np\n",
    "import matplotlib.pyplot as plt\n",
    "%matplotlib inline\n",
    "\n",
    "size = 1000"
   ]
  },
  {
   "cell_type": "markdown",
   "metadata": {},
   "source": [
    "Normal Distribution"
   ]
  },
  {
   "cell_type": "code",
   "execution_count": null,
   "metadata": {},
   "outputs": [],
   "source": [
    "mu = 50\n",
    "sigma = 10\n",
    "\n",
    "norm_dist = np.random.normal (mu, sigma, size)\n",
    "\n",
    "count, bins, ignored = plt.hist(norm_dist, 30, density=True)\n",
    "plt.title (\"Normal Distribution\")\n",
    "plt.show()"
   ]
  },
  {
   "cell_type": "markdown",
   "metadata": {},
   "source": [
    "Beta (a, b, size)"
   ]
  },
  {
   "cell_type": "code",
   "execution_count": null,
   "metadata": {},
   "outputs": [],
   "source": [
    "a = 0.5\n",
    "b = 0.5\n",
    "\n",
    "beta_dist = np.random.beta (a, b, size)\n",
    "\n",
    "count, bins, ignored = plt.hist(beta_dist, 30, density=True)\n",
    "plt.title (\"Beta Distribution\")\n",
    "plt.show()"
   ]
  },
  {
   "cell_type": "markdown",
   "metadata": {},
   "source": [
    "Binomial (n, p, size)"
   ]
  },
  {
   "cell_type": "code",
   "execution_count": null,
   "metadata": {},
   "outputs": [],
   "source": [
    "n = 50\n",
    "p = .25\n",
    "\n",
    "bin_dist = np.random.binomial (n, p, size)\n",
    "\n",
    "count, bins, ignored = plt.hist(bin_dist, 30, density=True)\n",
    "plt.title (\"Binomial Distribution\")\n",
    "plt.show()"
   ]
  },
  {
   "cell_type": "markdown",
   "metadata": {},
   "source": [
    "Chi Square (df, size)"
   ]
  },
  {
   "cell_type": "code",
   "execution_count": null,
   "metadata": {},
   "outputs": [],
   "source": [
    "df = 4\n",
    "\n",
    "chi_dist = np.random.chisquare (df, size)\n",
    "\n",
    "count, bins, ignored = plt.hist(chi_dist, 30, density=True)\n",
    "plt.title (\"ChiSquare Distribution\")\n",
    "plt.show()"
   ]
  },
  {
   "cell_type": "markdown",
   "metadata": {},
   "source": [
    "Exponential (scale, size)"
   ]
  },
  {
   "cell_type": "code",
   "execution_count": null,
   "metadata": {},
   "outputs": [],
   "source": [
    "scale = 4\n",
    "\n",
    "exp_dist = np.random.exponential (scale, size)\n",
    "\n",
    "count, bins, ignored = plt.hist(exp_dist, 30, density=True)\n",
    "plt.title (\"Exponential Distribution\")\n",
    "plt.show()"
   ]
  },
  {
   "cell_type": "markdown",
   "metadata": {},
   "source": [
    "Gamma (scale, shape, size)"
   ]
  },
  {
   "cell_type": "code",
   "execution_count": null,
   "metadata": {},
   "outputs": [],
   "source": [
    "scale = 4\n",
    "shape = 3\n",
    "\n",
    "gamma_dist = np.random.gamma (scale, shape, size)\n",
    "\n",
    "count, bins, ignored = plt.hist(gamma_dist, 30, density=True)\n",
    "plt.title (\"Gamma Distribution\")\n",
    "plt.show()"
   ]
  },
  {
   "cell_type": "markdown",
   "metadata": {},
   "source": [
    "Geometric (p, size)"
   ]
  },
  {
   "cell_type": "code",
   "execution_count": null,
   "metadata": {},
   "outputs": [],
   "source": [
    "p = .4\n",
    "\n",
    "geo_dist = np.random.geometric (p, size)\n",
    "\n",
    "count, bins, ignored = plt.hist(geo_dist, 30, density=True)\n",
    "plt.title (\"Geometric Distribution\")\n",
    "plt.show()"
   ]
  },
  {
   "cell_type": "markdown",
   "metadata": {},
   "source": [
    "Poisson (lam, size)"
   ]
  },
  {
   "cell_type": "code",
   "execution_count": null,
   "metadata": {},
   "outputs": [],
   "source": [
    "lam = 4\n",
    "\n",
    "poisson_dist = np.random.poisson (lam, size)\n",
    "\n",
    "count, bins, ignored = plt.hist(poisson_dist, 30, density=True)\n",
    "plt.title (\"Poisson Distribution\")\n",
    "plt.show()"
   ]
  },
  {
   "cell_type": "markdown",
   "metadata": {},
   "source": [
    "Uniform (low, high, size)"
   ]
  },
  {
   "cell_type": "code",
   "execution_count": null,
   "metadata": {},
   "outputs": [],
   "source": [
    "low = 4\n",
    "high = 12\n",
    "\n",
    "unif_dist = np.random.uniform (low, high, size)\n",
    "\n",
    "count, bins, ignored = plt.hist(unif_dist, 30, density=True)\n",
    "plt.title (\"Uniform Distribution\")\n",
    "plt.show()"
   ]
  },
  {
   "cell_type": "markdown",
   "metadata": {},
   "source": [
    "Weibull (a, size)"
   ]
  },
  {
   "cell_type": "code",
   "execution_count": null,
   "metadata": {},
   "outputs": [],
   "source": [
    "a = 4\n",
    "\n",
    "w_dist = np.random.weibull (a, size)\n",
    "\n",
    "count, bins, ignored = plt.hist(w_dist, 30, density=True)\n",
    "plt.title (\"Weibull Distribution\")\n",
    "plt.show()"
   ]
  }
 ],
 "metadata": {
  "kernelspec": {
   "display_name": "Python 3",
   "language": "python",
   "name": "python3"
  },
  "language_info": {
   "codemirror_mode": {
    "name": "ipython",
    "version": 3
   },
   "file_extension": ".py",
   "mimetype": "text/x-python",
   "name": "python",
   "nbconvert_exporter": "python",
   "pygments_lexer": "ipython3",
   "version": "3.7.1"
  }
 },
 "nbformat": 4,
 "nbformat_minor": 2
}
