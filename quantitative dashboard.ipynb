{
 "cells": [
  {
   "cell_type": "markdown",
   "metadata": {},
   "source": [
    "Detailed Dashboard\n",
    "User needs to provide their key.\n",
    "\n",
    "Differences from Basic:\n",
    "   Threats can have multiple sources\n",
    "   Threats can have multiple impacts"
   ]
  },
  {
   "cell_type": "code",
   "execution_count": null,
   "metadata": {},
   "outputs": [],
   "source": [
    "userkey = \"140\"\n",
    "dbhost  = 'localhost'"
   ]
  },
  {
   "cell_type": "code",
   "execution_count": null,
   "metadata": {},
   "outputs": [],
   "source": [
    "import pandas as pd\n",
    "import numpy as np\n",
    "import scipy as sp\n",
    "import matplotlib.pyplot as plt\n",
    "%matplotlib inline\n",
    "import ipywidgets as widgets\n",
    "import psycopg2\n",
    "import qual\n",
    "\n",
    "conn = psycopg2.connect(\"postgres://csc452:csc452@\" + dbhost + \"/csc452\")  \n",
    "cursor = conn.cursor()  \n",
    "cursor.execute('SET mydomain.userkey = ' + userkey)\n",
    "\n",
    "\n",
    "\n",
    "triages = pd.read_sql_query ('SELECT name, description, vulnerability, pervasive, impact, impact_name, impact_description, source_name, source_description, capacity, init FROM triagev', conn)\n",
    "tr = triages.loc[triages['source_name']!='source name']\n",
    "\n",
    "# still want to calculate the qualitative risk assessments\n",
    "\n",
    "for i in tr.index:\n",
    "    v = qual.qdict[qual.norm(tr.at[i,'vulnerability'])]\n",
    "    l = qual.qdict[qual.norm(tr.at[i,'init'])]\n",
    "    im = qual.qdict[qual.norm(tr.at[i,'impact'])]\n",
    "    o = qual.overall[l][v]\n",
    "    tr.at[i,'overall_likelihood'] = o\n",
    "    tr.at[i,'risk_level'] = qual.risk_level[o][im]\n",
    "    tr.at[i, 'risk_num'] = qual.qval_dict[qual.risk_level[o][im]]\n",
    "    tr.at[i, 'annual_events'] = tr.at[i,'init'] * qual.rate_dict[l]\n",
    "    tr.at[i, 'event_loss'] = tr.at[i,'impact'] * qual.loss_dict[im]\n",
    "    tr.at[i, 'annual_loss'] = tr.at[i,'annual_events'] * tr.at[i,'event_loss']\n",
    "\n",
    "rows = tr.set_index ('name')\n",
    "rows.sort_values (by=['annual_loss'])\n",
    "\n",
    "print (\"Threat Overview\")\n",
    "rows.filter (items=['name', 'annual_loss', 'risk_level', 'overall_likelihood', 'annual_events', 'event_loss', 'description'])\n"
   ]
  },
  {
   "cell_type": "code",
   "execution_count": null,
   "metadata": {},
   "outputs": [],
   "source": [
    "print (\"Threat Sources\")\n",
    "rows.filter (items=['name', 'source_name', 'source_description', 'init'])"
   ]
  },
  {
   "cell_type": "code",
   "execution_count": null,
   "metadata": {},
   "outputs": [],
   "source": [
    "print (\"Threat Impacts\")\n",
    "rows.filter (items=['name', 'impact', 'impact_name', 'impact_description', 'pervasive', 'vulnerability'])"
   ]
  },
  {
   "cell_type": "code",
   "execution_count": null,
   "metadata": {},
   "outputs": [],
   "source": []
  }
 ],
 "metadata": {
  "kernelspec": {
   "display_name": "Python 3",
   "language": "python",
   "name": "python3"
  },
  "language_info": {
   "codemirror_mode": {
    "name": "ipython",
    "version": 3
   },
   "file_extension": ".py",
   "mimetype": "text/x-python",
   "name": "python",
   "nbconvert_exporter": "python",
   "pygments_lexer": "ipython3",
   "version": "3.7.1"
  }
 },
 "nbformat": 4,
 "nbformat_minor": 2
}
