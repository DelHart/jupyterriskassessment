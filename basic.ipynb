{
 "cells": [
  {
   "cell_type": "markdown",
   "metadata": {},
   "source": [
    "Basic Editor\n",
    "  User needs to set userkey, and database host if necessary.\n",
    "  \n",
    "  Can be used to select and edit more detailed properties of threat events\n",
    "     - run first two cells, and then either select an event to edit or add a new event\n",
    "     - run the next cell to load the selected event\n",
    "     - save the event using the \"save threat event\" button, \n",
    "           using the notebook save button will not save the event's data"
   ]
  },
  {
   "cell_type": "code",
   "execution_count": null,
   "metadata": {},
   "outputs": [],
   "source": [
    "userkey = \"140\"\n",
    "dbhost  = 'localhost'"
   ]
  },
  {
   "cell_type": "code",
   "execution_count": null,
   "metadata": {},
   "outputs": [],
   "source": [
    "import ipywidgets as widgets\n",
    "import psycopg2\n",
    "import qual\n",
    "\n",
    "conn = psycopg2.connect(\"postgres://csc452:csc452@\" + dbhost + \"/csc452\")  \n",
    "cursor = conn.cursor()  \n",
    "cursor.execute('SET mydomain.userkey = ' + userkey)\n",
    "\n",
    "\n",
    "num_range = range(0,100) \n",
    "\n",
    "add_button = widgets.Button(description=\"add threat event\")\n",
    "def do_add(b):\n",
    "    cursor.execute (qual.new_triage_stmt, [\"new threat\", \"threat description here\", 50, 50, 50, \"impact name\", \"impact desc\", \"source name\", \"source desc\", 50, 50])\n",
    "    conn.commit()\n",
    "\n",
    "add_button.on_click(do_add)\n",
    "\n",
    "cursor.execute ('SELECT threat_id, source_id, impact_id, name, description, vulnerability, pervasive, impact, impact_name, impact_description, source_name, source_description, capacity, init FROM triagev')\n",
    "triages = cursor.fetchall()\n",
    "\n",
    "rec = {}\n",
    "\n",
    "def update_row():\n",
    "    print (\"saving threat event \")\n",
    "    row = rec['row']\n",
    "    w = rec['w']\n",
    "    vuln_val = w[5].value\n",
    "    perv_val = w[6].value\n",
    "    imp_val = w[7].value\n",
    "    cap_val = w[12].value\n",
    "    init_val = w[13].value\n",
    "    cursor.execute (qual.update_triage_stmt, [w[3].value, w[4].value, vuln_val, perv_val, imp_val, w[8].value, w[9].value, w[10].value, w[11].value, cap_val, init_val, row[0], row[1], row[2]])\n",
    "    conn.commit()\n",
    "    \n",
    "display (add_button)\n",
    "\n",
    "# allow user to select an event to edit\n",
    "\n",
    "# build up a list of the available events\n",
    "options_list = []\n",
    "options_mapping = {}\n",
    "\n",
    "for x in range(0, len(triages)):\n",
    "    options_list.append (triages[x][3])\n",
    "    options_mapping[triages[x][3]] = x\n",
    "\n",
    "# now create a widget\n",
    "select_widget = widgets.Dropdown (options=options_list, value=options_list[0], description='Threat Events:')\n",
    "display (select_widget)\n"
   ]
  },
  {
   "cell_type": "markdown",
   "metadata": {},
   "source": [
    "Use the above selection to choose an event to edit, and then run the cell below to pull up that event data."
   ]
  },
  {
   "cell_type": "code",
   "execution_count": null,
   "metadata": {},
   "outputs": [],
   "source": [
    "x = options_mapping[select_widget.value]\n",
    "\n",
    "w = [0,0,0]\n",
    "w.append ( widgets.Text( value=triages[x][3], description='Threat Event:' ))\n",
    "w.append ( widgets.Textarea( value=triages[x][4], description='Description:' ))\n",
    "w.append ( widgets.Dropdown( options=num_range, value=qual.norm(triages[x][5]), description='Vulnerability' ))\n",
    "w.append ( widgets.Dropdown( options=num_range, value=qual.norm(triages[x][6]), description='Pervasiveness' ))\n",
    "w.append ( widgets.Dropdown( options=num_range, value=qual.norm(triages[x][7]), description='Impact' ))\n",
    "w.append ( widgets.Text( value=triages[x][8], description='Impact:' ))\n",
    "w.append ( widgets.Textarea( value=triages[x][9], description='Impact Description:' ))\n",
    "w.append ( widgets.Text( value=triages[x][10], description='Threat Source:' ))\n",
    "w.append ( widgets.Textarea( value=triages[x][11], description='Source Description:' ))\n",
    "w.append ( widgets.Dropdown( options=num_range, value=qual.norm(triages[x][12]), description='Threat Capacity:' ))\n",
    "w.append ( widgets.Dropdown( options=num_range, value=qual.norm(triages[x][13]), description='Attack Likeliness:' ))\n",
    "rec['row'] = triages[x]\n",
    "rec['w'] = w\n",
    "b = widgets.Button (description = 'save threat event')\n",
    "    \n",
    "    \n",
    "def make_fn ():\n",
    "    return lambda b: update_row()\n",
    "         \n",
    "b.on_click(make_fn())\n",
    "\n",
    "print (\"After a save, to refresh rerun both this cell and the one above.\")\n",
    "    \n",
    "display (widgets.VBox ([\n",
    "        widgets.HBox([w[3], w[4]]),\n",
    "        widgets.HBox([w[5], w[6]]),\n",
    "        w[7],\n",
    "        widgets.HBox([w[8], w[9]]),\n",
    "        widgets.HBox([w[10], w[11]]),\n",
    "        widgets.HBox([w[12], w[13]]),\n",
    "        b,\n",
    "        widgets.Label ()\n",
    "    ]))"
   ]
  },
  {
   "cell_type": "code",
   "execution_count": null,
   "metadata": {},
   "outputs": [],
   "source": []
  }
 ],
 "metadata": {
  "kernelspec": {
   "display_name": "Python 3",
   "language": "python",
   "name": "python3"
  },
  "language_info": {
   "codemirror_mode": {
    "name": "ipython",
    "version": 3
   },
   "file_extension": ".py",
   "mimetype": "text/x-python",
   "name": "python",
   "nbconvert_exporter": "python",
   "pygments_lexer": "ipython3",
   "version": "3.7.1"
  }
 },
 "nbformat": 4,
 "nbformat_minor": 2
}
