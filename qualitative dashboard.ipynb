{
 "cells": [
  {
   "cell_type": "markdown",
   "metadata": {},
   "source": [
    "Qualitative Dashboard\n",
    "\n",
    "1. Set your userkey to access the correct data, and update the database host if necessary.\n",
    "2. Run the cells\n",
    "3. Review the threat scenarios.\n",
    "\n",
    "This is a read only notebook, nothing in this notebook will affect the data stored in the database.\n",
    "\n",
    "The Overall Likelihood and Risk Level tables are derived from NIST SP-800-30\n"
   ]
  },
  {
   "cell_type": "code",
   "execution_count": null,
   "metadata": {},
   "outputs": [],
   "source": [
    "userkey = \"140\"\n",
    "dbhost  = 'localhost'"
   ]
  },
  {
   "cell_type": "code",
   "execution_count": null,
   "metadata": {},
   "outputs": [],
   "source": [
    "import pandas as pd\n",
    "import ipywidgets as widgets\n",
    "import psycopg2\n",
    "import qual\n",
    "\n",
    "conn = psycopg2.connect(\"postgres://csc452:csc452@\" + dbhost + \"/csc452\")  \n",
    "cursor = conn.cursor()  \n",
    "cursor.execute('SET mydomain.userkey = ' + userkey)\n",
    "\n",
    "triages = pd.read_sql_query ('SELECT name, description, vulnerability, pervasive, impact, impact_name, impact_description, source_name, source_description, capacity, init FROM triagev', conn)\n",
    "\n",
    "for i in triages.index:\n",
    "    v = qual.qdict[qual.norm(triages.at[i,'vulnerability'])]\n",
    "    l = qual.qdict[qual.norm(triages.at[i,'init'])]\n",
    "    im = qual.qdict[qual.norm(triages.at[i,'impact'])]\n",
    "    triages.at[i,'vuln'] = v\n",
    "    triages.at[i,'imp'] = im\n",
    "    triages.at[i,'cap'] = qual.qdict[qual.norm(triages.at[i,'capacity'])]\n",
    "    triages.at[i,'likely'] = l\n",
    "    \n",
    "    # look up the overall likelihood of the attack succeeding\n",
    "    o = qual.overall[l][v]\n",
    "    triages.at[i,'overall_likelihood'] = o\n",
    "    \n",
    "    # look up the qualitative risk level\n",
    "    triages.at[i,'risk_level'] = qual.risk_level[o][im]\n",
    "\n",
    "print (\"Summary of Threat Scenarios\")\n",
    "    \n",
    "triages = triages.set_index ('name')\n",
    "\n",
    "# filter out newly added events\n",
    "tr = triages.loc[triages['source_name']!='source name']\n",
    "tr.filter (items=['name', 'description', 'vuln', 'imp', 'cap', 'overall_likelihood', 'risk_level'])"
   ]
  },
  {
   "cell_type": "code",
   "execution_count": null,
   "metadata": {},
   "outputs": [],
   "source": [
    "print (\"Summary of Threat Sources\")\n",
    "tr.filter (items=['name', 'source_name', 'source_description'])"
   ]
  },
  {
   "cell_type": "code",
   "execution_count": null,
   "metadata": {},
   "outputs": [],
   "source": []
  }
 ],
 "metadata": {
  "kernelspec": {
   "display_name": "Python 3",
   "language": "python",
   "name": "python3"
  },
  "language_info": {
   "codemirror_mode": {
    "name": "ipython",
    "version": 3
   },
   "file_extension": ".py",
   "mimetype": "text/x-python",
   "name": "python",
   "nbconvert_exporter": "python",
   "pygments_lexer": "ipython3",
   "version": "3.7.1"
  }
 },
 "nbformat": 4,
 "nbformat_minor": 2
}
