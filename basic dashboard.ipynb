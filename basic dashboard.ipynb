{
 "cells": [
  {
   "cell_type": "markdown",
   "metadata": {},
   "source": [
    "Basic Dashboard\n",
    "   - User needs to provide their key, modify database host if necessary\n",
    "   \n",
    "This is a readonly notebook, after configuring run all cells and review the results.\n",
    "\n",
    "Differences from Qualitative:\n",
    "  - Data presented on a scale from 0 - 100\n",
    "  - Pervasive attribute\n",
    "  - Impact Category attribute\n",
    "  - Estimated number of attacks\n",
    "  - Estimated Annual Loss Expectancy"
   ]
  },
  {
   "cell_type": "code",
   "execution_count": null,
   "metadata": {},
   "outputs": [],
   "source": [
    "userkey = \"140\"\n",
    "dbhost  = 'localhost'"
   ]
  },
  {
   "cell_type": "code",
   "execution_count": null,
   "metadata": {},
   "outputs": [],
   "source": [
    "import pandas as pd\n",
    "import ipywidgets as widgets\n",
    "import psycopg2\n",
    "import qual\n",
    "\n",
    "conn = psycopg2.connect(\"postgres://csc452:csc452@\" + dbhost + \"/csc452\")  \n",
    "cursor = conn.cursor()  \n",
    "cursor.execute('SET mydomain.userkey = ' + userkey)\n",
    "\n",
    "triages = pd.read_sql_query ('SELECT name, description, vulnerability, pervasive, impact, impact_name, impact_description, source_name, source_description, capacity, init FROM triagev', conn)\n",
    "\n",
    "\n",
    "for i in triages.index:\n",
    "    v = qual.qdict[qual.norm(triages.at[i,'vulnerability'])]\n",
    "    l = qual.qdict[qual.norm(triages.at[i,'init'])]\n",
    "    im = qual.qdict[qual.norm(triages.at[i,'impact'])]\n",
    "    o = qual.overall[l][v]\n",
    "    triages.at[i,'overall_likelihood'] = o\n",
    "    triages.at[i,'risk_level'] = qual.risk_level[o][im]\n",
    "    triages.at[i, 'risk_num'] = qual.qval_dict[qual.risk_level[o][im]]\n",
    "    triages.at[i, 'annual_events'] = triages.at[i,'init'] * qual.rate_dict[l]\n",
    "    triages.at[i, 'event_loss'] = triages.at[i,'impact'] * qual.loss_dict[im]\n",
    "    triages.at[i, 'annual_loss'] = triages.at[i,'annual_events'] * triages.at[i,'event_loss']\n",
    "\n",
    "# still want to calculate the qualitative risk assessments\n",
    "triages = triages.set_index ('name')\n",
    "tr = triages.loc[triages['source_name']!='source name']\n",
    "\n",
    "tr.sort_values (by=['annual_loss'])\n",
    "\n",
    "print (\"Threat Overview\")\n",
    "tr.filter (items=['name', 'annual_loss', 'risk_level', 'overall_likelihood', 'annual_events', 'event_loss', 'description'])\n"
   ]
  },
  {
   "cell_type": "code",
   "execution_count": null,
   "metadata": {},
   "outputs": [],
   "source": [
    "print (\"Threat Sources\")\n",
    "tr.filter (items=['name', 'source_name', 'source_description', 'init'])"
   ]
  },
  {
   "cell_type": "code",
   "execution_count": null,
   "metadata": {},
   "outputs": [],
   "source": [
    "print (\"Threat Impacts\")\n",
    "tr.filter (items=['name', 'impact', 'impact_name', 'impact_description', 'pervasive', 'vulnerability'])"
   ]
  },
  {
   "cell_type": "code",
   "execution_count": null,
   "metadata": {},
   "outputs": [],
   "source": []
  }
 ],
 "metadata": {
  "kernelspec": {
   "display_name": "Python 3",
   "language": "python",
   "name": "python3"
  },
  "language_info": {
   "codemirror_mode": {
    "name": "ipython",
    "version": 3
   },
   "file_extension": ".py",
   "mimetype": "text/x-python",
   "name": "python",
   "nbconvert_exporter": "python",
   "pygments_lexer": "ipython3",
   "version": "3.7.1"
  }
 },
 "nbformat": 4,
 "nbformat_minor": 2
}
