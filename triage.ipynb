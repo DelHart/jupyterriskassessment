{
 "cells": [
  {
   "cell_type": "markdown",
   "metadata": {},
   "source": [
    "A user needs to set their userkey in order to save the data to the correct location.\n",
    "\n",
    "This notebook can be used to:\n",
    "   - add new qualitative risk assessments\n",
    "   - edit all events at a qualitative level of detail\n",
    "      - saving an event through this notebook may cause loss of more detailed data associated with it\n",
    "\n",
    "Save event data with the \"save threat event\" buttons.  Saving the notebook will not update the threat data."
   ]
  },
  {
   "cell_type": "code",
   "execution_count": null,
   "metadata": {},
   "outputs": [],
   "source": [
    "userkey = \"140\"\n",
    "dbhost  = 'localhost'"
   ]
  },
  {
   "cell_type": "code",
   "execution_count": null,
   "metadata": {},
   "outputs": [],
   "source": [
    "import ipywidgets as widgets\n",
    "import psycopg2\n",
    "import qual\n",
    "\n",
    "conn = psycopg2.connect(\"postgres://csc452:csc452@\" + dbhost + \"/csc452\")  \n",
    "cursor = conn.cursor()  \n",
    "cursor.execute('SET mydomain.userkey = ' + userkey)\n",
    "\n",
    "\n",
    "add_button = widgets.Button(description=\"add threat event\")\n",
    "def do_add(b):\n",
    "    cursor.execute (qual.new_triage_stmt, [\"new threat\", \"threat description here\", 50, 50, 50, \"impact name\", \"impact desc\", \"source name\", \"source desc\", 50, 50])\n",
    "    conn.commit()\n",
    "\n",
    "add_button.on_click(do_add)\n",
    "\n",
    "display (add_button)\n",
    "\n",
    "\n"
   ]
  },
  {
   "cell_type": "code",
   "execution_count": null,
   "metadata": {
    "scrolled": false
   },
   "outputs": [],
   "source": [
    "cursor.execute ('SELECT threat_id, source_id, impact_id, name, description, vulnerability, pervasive, impact, impact_name, impact_description, source_name, source_description, capacity, init FROM triagev')\n",
    "triages = cursor.fetchall()\n",
    "\n",
    "d = []\n",
    "\n",
    "def update_row(x):\n",
    "    print (\"saving threat event \" + str(x))\n",
    "    rec = d[x]\n",
    "    row = rec['row']\n",
    "    w = rec['w']\n",
    "    vuln_val = qual.qval_dict[w[5].value]\n",
    "    perv_val = qual.qval_dict[w[6].value]\n",
    "    imp_val = qual.qval_dict[w[7].value]\n",
    "    cap_val = qual.qval_dict[w[12].value]\n",
    "    init_val = qual.qval_dict[w[13].value]\n",
    "    cursor.execute (qual.update_triage_stmt, [w[3].value, w[4].value, vuln_val, perv_val, imp_val, w[8].value, w[9].value, w[10].value, w[11].value, cap_val, init_val, row[0], row[1], row[2]])\n",
    "    conn.commit()\n",
    "    \n",
    "\n",
    "for x in range(0, len(triages)):\n",
    "    w = [0,0,0]\n",
    "    w.append ( widgets.Text( value=triages[x][3], description='Threat Event:' ))\n",
    "    w.append ( widgets.Textarea( value=triages[x][4], description='Description:' ))\n",
    "    w.append ( widgets.Dropdown( options=qual.qscale, value=qual.qdict[qual.norm(triages[x][5])], description='Vulnerability' ))\n",
    "    w.append ( widgets.Dropdown( options=qual.qscale, value=qual.qdict[qual.norm(triages[x][6])], description='Pervasiveness' ))\n",
    "    w.append ( widgets.Dropdown( options=qual.qscale, value=qual.qdict[qual.norm(triages[x][7])], description='Impact' ))\n",
    "    w.append ( widgets.Text( value=triages[x][8], description='Impact:' ))\n",
    "    w.append ( widgets.Textarea( value=triages[x][9], description='Impact Description:' ))\n",
    "    w.append ( widgets.Text( value=triages[x][10], description='Threat Source:' ))\n",
    "    w.append ( widgets.Textarea( value=triages[x][11], description='Source Description:' ))\n",
    "    w.append ( widgets.Dropdown( options=qual.qscale, value=qual.qdict[qual.norm(triages[x][12])], description='Threat Capacity:' ))\n",
    "    w.append ( widgets.Dropdown( options=qual.qscale, value=qual.qdict[qual.norm(triages[x][13])], description='Attack Likeliness:' ))\n",
    "    d.append ({ 'row' : triages[x], 'w' : w })\n",
    "    b = widgets.Button (description = 'save threat event ' + str(x))\n",
    "    \n",
    "    \n",
    "    def make_fn (n):\n",
    "        w = n\n",
    "        return lambda b: update_row(w)\n",
    "         \n",
    "    b.on_click(make_fn(x))\n",
    "    \n",
    "    display (widgets.VBox ([\n",
    "        widgets.HBox([w[3], w[4]]),\n",
    "        widgets.HBox([w[5], w[7]]),\n",
    "        widgets.HBox([w[10], w[11]]),\n",
    "        widgets.HBox([w[12], w[13]]),\n",
    "        b,\n",
    "        widgets.Label ()\n",
    "    ]))\n",
    "\n"
   ]
  },
  {
   "cell_type": "code",
   "execution_count": null,
   "metadata": {},
   "outputs": [],
   "source": []
  },
  {
   "cell_type": "code",
   "execution_count": null,
   "metadata": {},
   "outputs": [],
   "source": []
  }
 ],
 "metadata": {
  "kernelspec": {
   "display_name": "Python 3",
   "language": "python",
   "name": "python3"
  },
  "language_info": {
   "codemirror_mode": {
    "name": "ipython",
    "version": 3
   },
   "file_extension": ".py",
   "mimetype": "text/x-python",
   "name": "python",
   "nbconvert_exporter": "python",
   "pygments_lexer": "ipython3",
   "version": "3.7.1"
  }
 },
 "nbformat": 4,
 "nbformat_minor": 2
}
