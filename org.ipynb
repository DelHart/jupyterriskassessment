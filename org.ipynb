{
 "cells": [
  {
   "cell_type": "markdown",
   "metadata": {},
   "source": [
    "This notebook is used to review and edit the context associated with a risk assessment.\n",
    "\n",
    "1. Set your userkey to access the correct data set, and update the dbhost if necessary.\n",
    "2. Run the cells to load the current data.\n",
    "3. Edit the widgets.\n",
    "4. Press the \"Update Scenario\" button to save the updated data to the database.  (Do not use the Jupyter Notebook save, that will not keep the data you entered)"
   ]
  },
  {
   "cell_type": "code",
   "execution_count": null,
   "metadata": {},
   "outputs": [],
   "source": [
    "# configuration parameters\n",
    "userkey = \"150\"\n",
    "dbhost  = 'localhost'"
   ]
  },
  {
   "cell_type": "code",
   "execution_count": null,
   "metadata": {
    "scrolled": false
   },
   "outputs": [],
   "source": [
    "\n",
    "import ipywidgets as widgets\n",
    "import psycopg2\n",
    "\n",
    "conn = psycopg2.connect(\"postgres://csc452:csc452@\" + dbhost + \"/csc452\")  \n",
    "cursor = conn.cursor()  \n",
    "cursor.execute('SET mydomain.userkey = ' + userkey)\n",
    "\n",
    "cursor.execute ('SELECT name, mission, org FROM orgv')\n",
    "orgs = cursor.fetchall()\n",
    "\n",
    "cursor.execute('SELECT asset, kind, name, description FROM assetv ORDER BY kind, name ASC')\n",
    "rows = cursor.fetchall()\n",
    "\n",
    "cursor.execute('SELECT control, kind, name, description FROM controlv ORDER BY control ASC')\n",
    "controls = cursor.fetchall()\n",
    "\n",
    "w = []\n",
    "w.append (widgets.Text(\n",
    "    value=orgs[0][0],\n",
    "    placeholder='organization name',\n",
    "    description='Name:',\n",
    "    disabled=False\n",
    "))\n",
    "\n",
    "w.append(widgets.Textarea(\n",
    "    value=orgs[0][1],\n",
    "    placeholder='organizations mission',\n",
    "    description='Mission:',\n",
    "    disabled=False\n",
    "))\n",
    "\n",
    "labels=['Proc name:', 'Proc name:', 'System name:', 'System name:', 'System name:', 'Asset name:', 'Asset name:', 'Asset name:', 'Asset name:', 'Asset name:']\n",
    "wc = []\n",
    "\n",
    "for x in range(0,10):\n",
    "    wc.append([])\n",
    "    wc[x].append(widgets.Text(value=rows[x][2], description=labels[x]))\n",
    "    wc[x].append(widgets.Textarea(value=rows[x][3], description='Description:'))\n",
    "    if x > 4:\n",
    "        y = x - 5\n",
    "        wc[x].append(widgets.Text(value=controls[y][1], description='Control Type:'))\n",
    "        wc[x].append(widgets.Textarea(value=controls[y][3], description='Description:'))\n",
    "        w.append(widgets.HBox([wc[x][0], wc[x][1], wc[x][2], wc[x][3]]))\n",
    "    else:\n",
    "        w.append(widgets.HBox([wc[x][0], wc[x][1]]))\n",
    "\n",
    "button = widgets.Button(description=\"update scenario\")\n",
    "\n",
    "update_mission = ''' UPDATE orgv SET name=%s, mission=%s WHERE org = %s'''\n",
    "update_asset = '''UPDATE assetv SET name=%s, description=%s WHERE asset=%s'''\n",
    "update_control = '''UPDATE controlv SET kind=%s, description=%s WHERE control=%s'''\n",
    "\n",
    "def on_button_clicked(b):\n",
    "    cursor.execute (update_mission, (w[0].value, w[1].value, orgs[0][2]))\n",
    "    for x in range(0,10):\n",
    "        cursor.execute (update_asset, (wc[x][0].value, wc[x][1].value, rows[x][0]))\n",
    "        if x > 4:\n",
    "            y = x - 5\n",
    "            cursor.execute (update_control, (wc[x][2].value, wc[x][3].value, controls[y][0]))\n",
    "    conn.commit()\n",
    "\n",
    "button.on_click(on_button_clicked)\n",
    "\n",
    "for x in w:\n",
    "    display(x)\n",
    "    \n",
    "display(button)"
   ]
  },
  {
   "cell_type": "code",
   "execution_count": null,
   "metadata": {},
   "outputs": [],
   "source": []
  }
 ],
 "metadata": {
  "kernelspec": {
   "display_name": "Python 3",
   "language": "python",
   "name": "python3"
  },
  "language_info": {
   "codemirror_mode": {
    "name": "ipython",
    "version": 3
   },
   "file_extension": ".py",
   "mimetype": "text/x-python",
   "name": "python",
   "nbconvert_exporter": "python",
   "pygments_lexer": "ipython3",
   "version": "3.7.1"
  }
 },
 "nbformat": 4,
 "nbformat_minor": 2
}
